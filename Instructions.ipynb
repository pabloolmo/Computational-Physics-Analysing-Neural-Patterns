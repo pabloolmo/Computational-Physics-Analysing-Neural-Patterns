{
 "cells": [
  {
   "cell_type": "markdown",
   "metadata": {},
   "source": [
    "# Instructions of the CA1 "
   ]
  },
  {
   "cell_type": "markdown",
   "metadata": {},
   "source": [
    "The objective of the assessment is to apply the knowledge gained throughout the first half of the module for solving problems similar to those found in different scientific fields. The instructions, including submission and assessment criteria, are described in the points below."
   ]
  },
  {
   "cell_type": "markdown",
   "metadata": {},
   "source": [
    "## Work\n",
    "\n",
    "* You will have to ***choose one*** (and only one) of the two options available:\n",
    "\n",
    "    * Epidemics\n",
    "    * Brain current generators\n",
    "    \n",
    "\n",
    "* Instructions for each problem are available in the corresponding assignment's document. Both options are similar in complexity.\n",
    "\n",
    "\n",
    "* Each student should submit an individual report (i.e., group work ***is not*** allowed).\n",
    "\n",
    "\n",
    "* This assignment is worth 25% of the total mark for the module. The maximum mark is 100, and the value of each exercise is shown between square brackets. \n"
   ]
  },
  {
   "cell_type": "markdown",
   "metadata": {},
   "source": [
    "## Assessment criteria\n",
    "\n",
    "\n",
    "* ***Code***: The assessment of the code will be based on its functionality (is it running and doing what it is supposed to?) and its clarity (is the code structured in a clear, concise way, with a good use of functions, and with enough comments for anyone to understand what it does?) \n",
    "\n",
    "    _Note_ : A code that is well structured but does not work will still get some marks, and a code that works but is badly structured will lose some marks.\n",
    "\n",
    "<br />\n",
    "    \n",
    "* ***Write up***: We should be able to see what your code does just by looking at your write-up. This means that you should answer questions with explanatory text and with the help of relevant figures. The assessment of the write-up will be based on the correctness of the written answer/interpretation and the quality of the figures (e.g. , presence of a caption, axis labels, and legend for whatever is plotted). \n",
    "\n",
    "    _Note_ : High quality figures that are not correct because the code does not work will still get some marks.\n",
    "\n",
    "<br />\n",
    "\n",
    "* Failing to provide the write-up and/or code are considered to be major lapses - see decile level descriptors.\n"
   ]
  },
  {
   "cell_type": "markdown",
   "metadata": {},
   "source": [
    "## Submission\n",
    "\n",
    "\n",
    "* This assignment has to be submitted through Leaning Central by 2 pm, Friday 20th of November, 2020.\n",
    "\n",
    "\n",
    "* You will need to submit a standalone write-up that includes all answers to the questions, with figures, explanations, and the codes. Everything should be in a single ***.html*** document, exported from a single Jupyter notebook (remember that external images have to be loaded and plotted within a Python cell). It should be clear from the write-up what you have done, and what you have concluded.\n",
    "\n",
    "\n",
    "* Cases for plagiarism will be checked (write-up and code!). "
   ]
  }
 ],
 "metadata": {
  "kernelspec": {
   "display_name": "Python 3",
   "language": "python",
   "name": "python3"
  },
  "language_info": {
   "codemirror_mode": {
    "name": "ipython",
    "version": 3
   },
   "file_extension": ".py",
   "mimetype": "text/x-python",
   "name": "python",
   "nbconvert_exporter": "python",
   "pygments_lexer": "ipython3",
   "version": "3.6.5"
  }
 },
 "nbformat": 4,
 "nbformat_minor": 2
}
